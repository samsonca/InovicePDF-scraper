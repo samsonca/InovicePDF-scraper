{
 "cells": [
  {
   "cell_type": "code",
   "execution_count": 7,
   "metadata": {},
   "outputs": [],
   "source": [
    "import pdfplumber\n",
    "import re"
   ]
  },
  {
   "cell_type": "code",
   "execution_count": 8,
   "metadata": {},
   "outputs": [],
   "source": [
    "location = r\"C:\\Users\\SamsonC\\Documents\\Accounting\\Accounting_AR\\invoice_pdf\\salefish-invoice.pdf\"\n"
   ]
  },
  {
   "cell_type": "code",
   "execution_count": 9,
   "metadata": {},
   "outputs": [
    {
     "name": "stdout",
     "output_type": "stream",
     "text": [
      "Date: 2020-11-30\n",
      "Invoice\n",
      "Client: Branthaven Marz Inc.\n",
      "720 Oval Court\n",
      "Invoice No: 4560\n",
      "Burlington, On\n",
      "L7L 6A9 Agreement No: A0224\n",
      "Terms: Net 30\n",
      "Re: #A0224 - Casa De Torri Qty Rate Price\n",
      "To bill for Hosting and Upgrades as per section 3 of the contract: 1 400.00 400.00\n",
      "November, 2020\n",
      "HST On Sales 13.00% 52.00\n",
      "Total (CDN) $452.00\n",
      "HST 811629252\n",
      "It's been a pleasure working with you!\n"
     ]
    }
   ],
   "source": [
    "with pdfplumber.open(location) as pdf:\n",
    "    for page in pdf.pages:\n",
    "        text = page.extract_text()\n",
    "\n",
    "    for line in text.split('\\n'):\n",
    "        print(line)\n"
   ]
  },
  {
   "cell_type": "code",
   "execution_count": 10,
   "metadata": {},
   "outputs": [
    {
     "data": {
      "text/plain": [
       "\"Date: 2020-11-30\\nInvoice\\nClient: Branthaven Marz Inc.\\n720 Oval Court\\nInvoice No: 4560\\nBurlington, On\\nL7L 6A9 Agreement No: A0224\\nTerms: Net 30\\nRe: #A0224 - Casa De Torri Qty Rate Price\\nTo bill for Hosting and Upgrades as per section 3 of the contract: 1 400.00 400.00\\nNovember, 2020\\nHST On Sales 13.00% 52.00\\nTotal (CDN) $452.00\\nHST 811629252\\nIt's been a pleasure working with you!\""
      ]
     },
     "execution_count": 10,
     "metadata": {},
     "output_type": "execute_result"
    }
   ],
   "source": [
    "text"
   ]
  },
  {
   "cell_type": "code",
   "execution_count": 32,
   "metadata": {},
   "outputs": [
    {
     "data": {
      "text/plain": [
       "'2020-11-30'"
      ]
     },
     "execution_count": 32,
     "metadata": {},
     "output_type": "execute_result"
    }
   ],
   "source": [
    "text = \"Date: 2020-11-30\"\n",
    "\n",
    "# Extract date using regex\n",
    "date = re.search(r'Date:\\s*(\\d{4}-\\d{2}-\\d{2})', text).group(1)\n",
    "print(f\"Date: {date}\")\n"
   ]
  },
  {
   "cell_type": "code",
   "execution_count": 11,
   "metadata": {},
   "outputs": [
    {
     "data": {
      "text/plain": [
       "'4560'"
      ]
     },
     "execution_count": 11,
     "metadata": {},
     "output_type": "execute_result"
    }
   ],
   "source": [
    "# Extract invoice\n",
    "invoice_number = re.search(r'Invoice No: (\\d+)', text).group(1)\n",
    "print(f\"Invoice No: {invoice_number}\")\n"
   ]
  },
  {
   "cell_type": "code",
   "execution_count": 12,
   "metadata": {},
   "outputs": [
    {
     "data": {
      "text/plain": [
       "'Branthaven Marz Inc.\\n'"
      ]
     },
     "execution_count": 12,
     "metadata": {},
     "output_type": "execute_result"
    }
   ],
   "source": [
    "# Extract Client\n",
    "Client = re.search(r'(?:Client|Bill To|Customer):\\s*([\\w\\s&-]+?(?:\\s*(?:Inc\\.|Ltd\\.|LLC|Limited))?)', text)\n",
    "pattern = re.search(r'Client:\\s*([A-Za-z\\s.,-]+)', text).group(1)\n",
    "\n",
    "# Client\n",
    "print(f\"Client: {pattern}\")\n"
   ]
  },
  {
   "cell_type": "code",
   "execution_count": 49,
   "metadata": {},
   "outputs": [
    {
     "name": "stdout",
     "output_type": "stream",
     "text": [
      "Street Address: 30\n",
      "Invoice\n",
      "Client\n"
     ]
    }
   ],
   "source": [
    "# Regex to match the street address\n",
    "street_regex = r'(\\d+\\s+[A-Za-z]+\\s+[A-Za-z]+)'\n",
    "street_match = re.search(street_regex, text)\n",
    "\n",
    "if street_match:\n",
    "    street = street_match.group(1).strip()\n",
    "    print(\"Street Address:\", street)\n",
    "else:\n",
    "    print(\"Street address not found.\")"
   ]
  },
  {
   "cell_type": "code",
   "execution_count": 48,
   "metadata": {},
   "outputs": [
    {
     "name": "stdout",
     "output_type": "stream",
     "text": [
      "\"\\nDate: 2020-11-30\\nInvoice\\nClient: Branthaven Marz Inc.\\n720 Oval Court\\nInvoice No: 4560\\nBurlington, On\\nL7L 6A9 Agreement No: A0224\\nTerms: Net 30\\nRe: #A0224 - Casa De Torri Qty Rate Price\\nTo bill for Hosting and Upgrades as per section 3 of the contract: 1 400.00 400.00\\nNovember, 2020\\nHST On Sales 13.00% 52.00\\nTotal (CDN) $452.00\\nHST 811629252\\nIt's been a pleasure working with you!\\n\"\n",
      "None\n",
      "Address not found.\n"
     ]
    }
   ],
   "source": [
    "import re\n",
    "\n",
    "print(repr(text))\n",
    "# Regex to match the client address\n",
    "address_regex = r'(\\d+\\s+[A-Za-z]+\\s+[A-Za-z]+)\\s*[\\n,]?\\s*([A-Za-z]+)\\s*[\\n,]?\\s*([A-Z]{2})\\s*\\n([A-Z]\\d[A-Z]\\s*\\d[A-Z]\\d)'\n",
    "address_match = re.search(address_regex, text)\n",
    "print(address_match)\n",
    "\n",
    "if address_match:\n",
    "    street = address_match.group(1)\n",
    "    city = address_match.group(2).strip()\n",
    "    province = address_match.group(3).strip()\n",
    "    postal_code = address_match.group(4).strip()\n",
    "    print(f\"Street: {street}\")\n",
    "    print(f\"City: {city}\")\n",
    "    print(f\"Province: {province}\")\n",
    "    print(f\"Postal Code: {postal_code}\")\n",
    "    \n",
    "    # client_address = f\"{street}, {city}, {province} {postal_code}\"\n",
    "    # print(\"Client Address:\", client_address)\n",
    "else:\n",
    "    print(\"Address not found.\")"
   ]
  },
  {
   "cell_type": "code",
   "execution_count": 13,
   "metadata": {},
   "outputs": [
    {
     "data": {
      "text/plain": [
       "'A0224'"
      ]
     },
     "execution_count": 13,
     "metadata": {},
     "output_type": "execute_result"
    }
   ],
   "source": [
    "agreement_number = re.search(r'Agreement No:\\s*([A-Z0-9]+)', text).group(1)\n",
    "print(f\"Agreement No: {agreement_number}\")\n"
   ]
  },
  {
   "cell_type": "code",
   "execution_count": 18,
   "metadata": {},
   "outputs": [
    {
     "data": {
      "text/plain": [
       "'Net 30'"
      ]
     },
     "execution_count": 18,
     "metadata": {},
     "output_type": "execute_result"
    }
   ],
   "source": [
    "terms = re.search(r'Terms:\\s*([\\w\\s]+?)(?:\\n|$)', text).group(1).strip()\n",
    "print(f\"Terms: {terms}\")\n",
    "\n"
   ]
  },
  {
   "cell_type": "code",
   "execution_count": 17,
   "metadata": {},
   "outputs": [
    {
     "data": {
      "text/plain": [
       "'452.00'"
      ]
     },
     "execution_count": 17,
     "metadata": {},
     "output_type": "execute_result"
    }
   ],
   "source": [
    "total = re.search(r'Total \\(CDN\\)\\s*\\$([\\d,.]+)', text).group(1)\n",
    "print(f\"Total: {total}\")\n",
    "\n"
   ]
  },
  {
   "cell_type": "code",
   "execution_count": 26,
   "metadata": {},
   "outputs": [
    {
     "name": "stdout",
     "output_type": "stream",
     "text": [
      "Agreement No: A0224\n",
      "Client: Casa De Torri\n",
      "\n",
      "Description: To bill for Hosting and Upgrades as per section 3 of the contract\n",
      "Qty: 1\n",
      "Rate: 400.00\n",
      "Price: 400.00\n",
      "Tax Rate: 13.00%\n",
      "Tax Amount: 52.00\n"
     ]
    }
   ],
   "source": [
    "import re\n",
    "\n",
    "# Sample text\n",
    "text = \"\"\"\n",
    "Re: #A0224 - Casa De Torri Qty Rate Price\n",
    "To bill for Hosting and Upgrades as per section 3 of the contract: 1 400.00 400.00\n",
    "November, 2020\n",
    "HST On Sales 13.00% 52.00\n",
    "\"\"\"\n",
    "\n",
    "# Extract header with Agreement No and Client\n",
    "header_match = re.search(r'Re: #([A-Z0-9]+) - ([A-Za-z\\s]+)\\s*(Qty\\s+Rate\\s+Price)', text)\n",
    "if header_match:\n",
    "    agreement_number = header_match.group(1).strip()\n",
    "    client_name = header_match.group(2).strip()\n",
    "    column_labels = header_match.group(3).strip()\n",
    "    print(f\"Agreement No: {agreement_number}\")\n",
    "    print(f\"Client: {client_name}\")\n",
    "    # print(f\"Column Labels: {column_labels}\")\n",
    "    print()\n",
    "\n",
    "    # Remove the header from the text\n",
    "    # text_without_header = text.replace(header_match.group(0), \"\").strip()\n",
    "    # print(\"\\nText without header:\")\n",
    "    # print(text_without_header)\n",
    "else:\n",
    "    print(\"Header not found.\")\n",
    "\n",
    "# Extract table rows\n",
    "table_row_regex = r'(.+):\\s+(\\d+)\\s+([\\d,.]+)\\s+([\\d,.]+)'\n",
    "matches = re.findall(table_row_regex, text)\n",
    "\n",
    "# Print table data\n",
    "for match in matches:\n",
    "    description, qty, rate, price = match\n",
    "    print(f\"Description: {description.strip()}\")\n",
    "    print(f\"Qty: {qty}\")\n",
    "    print(f\"Rate: {rate}\")\n",
    "    print(f\"Price: {price}\")\n",
    "\n",
    "# Extract tax information\n",
    "tax_match = re.search(r'HST On Sales ([\\d.]+%) ([\\d,.]+)', text)\n",
    "if tax_match:\n",
    "    tax_rate = tax_match.group(1)\n",
    "    tax_amount = tax_match.group(2)\n",
    "    print(f\"Tax Rate: {tax_rate}\")\n",
    "    print(f\"Tax Amount: {tax_amount}\")"
   ]
  }
 ],
 "metadata": {
  "kernelspec": {
   "display_name": "Python 3",
   "language": "python",
   "name": "python3"
  },
  "language_info": {
   "codemirror_mode": {
    "name": "ipython",
    "version": 3
   },
   "file_extension": ".py",
   "mimetype": "text/x-python",
   "name": "python",
   "nbconvert_exporter": "python",
   "pygments_lexer": "ipython3",
   "version": "3.11.9"
  }
 },
 "nbformat": 4,
 "nbformat_minor": 2
}
