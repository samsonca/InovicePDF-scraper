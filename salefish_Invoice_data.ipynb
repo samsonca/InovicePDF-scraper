{
 "cells": [
  {
   "cell_type": "code",
   "execution_count": 83,
   "metadata": {},
   "outputs": [],
   "source": [
    "import pdfplumber\n",
    "import re"
   ]
  },
  {
   "cell_type": "code",
   "execution_count": 86,
   "metadata": {},
   "outputs": [],
   "source": [
    "# location = r\"C:\\Users\\SamsonC\\Documents\\Accounting\\Accounting_AR\\invoice_pdf\\salefish-invoice.pdf\"\n",
    "location = r\"C:\\Users\\SamsonC\\Documents\\Accounting\\Accounting_AR\\invoice_pdf\\8713.pdf\"\n",
    "\n",
    "\n"
   ]
  },
  {
   "cell_type": "code",
   "execution_count": 87,
   "metadata": {},
   "outputs": [
    {
     "name": "stdout",
     "output_type": "stream",
     "text": [
      "Date: 2023-10-31\n",
      "Invoice\n",
      "Client: Deco Homes\n",
      "570 Applewood Crescent,\n",
      "Invoice No: 8713\n",
      "Unit 1\n",
      "Vaughan, ON Agreement No: A0546\n",
      "L4K 4B4\n",
      "Terms: Net 30\n",
      "Re: #A0546 - Honeystone Qty Rate Price\n",
      "To bill for time spent in October 2023 after launch on document 1.5 150.00 225.00\n",
      "revisions as per Schedule \"A1\" - Fee Schedule of the contract (1.5\n",
      "hours)\n",
      "- Schedule S - Site Plan\n",
      "HST On Sales 13.00% 29.25\n",
      "Total (CDN) $254.25\n",
      "HST 811629252\n",
      "Thank you for your business.\n",
      "Date: 2023-10-31\n",
      "Invoice No: 8713\n",
      "Client: Deco Homes\n",
      "\n",
      "Street Address: 31\n",
      "Invoice\n",
      "Client\n"
     ]
    }
   ],
   "source": [
    "with pdfplumber.open(location) as pdf:\n",
    "    for page in pdf.pages:\n",
    "        text = page.extract_text()\n",
    "\n",
    "    for line in text.split('\\n'):\n",
    "        print(line)\n",
    "        \n",
    "    date = re.search(r'Date:\\s*(\\d{4}-\\d{2}-\\d{2})', text).group(1)\n",
    "    print(f\"Date: {date}\")\n",
    "\n",
    "    invoice_number = re.search(r'Invoice No: (\\d+)', text).group(1)\n",
    "    print(f\"Invoice No: {invoice_number}\")\n",
    "\n",
    "    Client = re.search(r'(?:Client|Bill To|Customer):\\s*([\\w\\s&-]+?(?:\\s*(?:Inc\\.|Ltd\\.|LLC|Limited))?)', text)\n",
    "    pattern = re.search(r'Client:\\s*([A-Za-z\\s.,-]+)', text).group(1)\n",
    "\n",
    "    # Client\n",
    "    print(f\"Client: {pattern}\")\n",
    "\n",
    "    # we can try using client/company game stands for the pre-condition\n",
    "    # city and province would be together, but assuming it should also ends with ON, before \"Agreement\"\n",
    "    # postal code would be easier to capture, its before \"\\nTerms\"\n",
    "\n"
   ]
  },
  {
   "cell_type": "code",
   "execution_count": 114,
   "metadata": {},
   "outputs": [
    {
     "name": "stdout",
     "output_type": "stream",
     "text": [
      "Street: 8713\n",
      "Deco Homes\n",
      "570 Applewood Crescent,\n",
      "Unit: Unit 1\n"
     ]
    }
   ],
   "source": [
    "import fitz  # PyMuPDF\n",
    "import pytesseract\n",
    "from PIL import Image\n",
    "import re\n",
    "\n",
    "# Path to Tesseract executable (if not in PATH)\n",
    "# Uncomment and update the path if needed:\n",
    "pytesseract.pytesseract.tesseract_cmd = r\"C:\\Users\\SamsonC\\AppData\\Local\\Programs\\Tesseract-OCR\\tesseract.exe\"\n",
    "\n",
    "# Open the PDF file\n",
    "doc = fitz.open(location)\n",
    "\n",
    "# Iterate through each page\n",
    "for page_num in range(len(doc)):\n",
    "    page = doc.load_page(page_num)  # Load the page\n",
    "\n",
    "    # Extract text directly from the page\n",
    "    text = page.get_text()\n",
    "    # for line in text.splitlines():\n",
    "    #     print(f\"Line: {line}\")\n",
    "    # print(\"--------------Extracting Text------------------\")\n",
    "    # print(f\"--- Page {page_num + 1} (Text Layer) ---\")\n",
    "    # print(text)\n",
    "    # print(\"--------------Successfully Extracting Text------------------\")\n",
    "\n",
    "    # regex = r\"(?P<street>[\\d\\w\\s]+(?:,\\s*Unit\\s*\\d+)?)\\s*(?P<city>[\\w\\s]+),\\s*(?P<province>[A-Z]{2})\\s*(?P<postal_code>[A-Z]\\d[A-Z]\\s*\\d[A-Z]\\d)\"\n",
    "    # match = re.search(regex, text, re.DOTALL)\n",
    "\n",
    "    # if match:\n",
    "    #     print(\"Street:\", match.group(\"street\"))\n",
    "    #     print(\"City:\", match.group(\"city\"))\n",
    "    #     print(\"Province:\", match.group(\"province\"))\n",
    "    #     print(\"Postal Code:\", match.group(\"postal_code\"))\n",
    "\n",
    "\n",
    "        # Debugging: Test smaller parts of the regex\n",
    "    # street_test = re.search(r\"(?m)^\\s*\\d{1,5}\\s[\\w\\s]+(?:,\\s*Unit\\s*\\d+)?(?:,)?\", text)\n",
    "    # street_test = re.search(r\"(?m)^\\s*\\d{1,5}\\s[\\w\\s]+(?:,\\s*Unit\\s*\\d+)?\", text)\n",
    "    # street_test = re.search(r\"^\\s*\\d{1,5}\\s[\\w\\s]+(?:,\\s*Unit\\s*\\d+)?$\", text, re.MULTILINE)\n",
    "\n",
    "\n",
    "\n",
    "    # if street_test:\n",
    "    #     print(\"Street Match Test:\", street_test.group(0))\n",
    "    # else:\n",
    "    #     print(\"Street not matched. Check formatting or regex.\")\n",
    "\n",
    "    # city_test = re.search(r\"(?m)^\\s*[A-Za-z\\s]+(?=, ON)\", text)\n",
    "    # if city_test:\n",
    "    #     print(\"City Match Test:\", city_test.group(0))\n",
    "    # else:\n",
    "    #     print(\"City not matched.\")\n",
    "\n",
    "    # province_test = re.search(r\"[A-Z]{2}\", text)\n",
    "    # if province_test:\n",
    "    #     print(\"Province Match Test:\", province_test.group(0))\n",
    "    # else:\n",
    "    #     print(\"Province not matched.\")\n",
    "\n",
    "    # postal_test = re.search(r\"[A-Z]\\d[A-Z]\\s*\\d[A-Z]\\d\", text)\n",
    "    # if postal_test:\n",
    "    #     print(\"Postal Code Match Test:\", postal_test.group(0))\n",
    "    # else:\n",
    "    #     print(\"Postal code not matched.\")\n",
    "\n",
    "    street_test = re.search(r\"^\\s*\\d{1,5}\\s[\\w\\s]+,\", text, re.MULTILINE)  # Strictly match street lines\n",
    "    unit_test = re.search(r\"^\\s*Unit\\s*\\d+\", text, re.MULTILINE)           # Strictly match unit lines\n",
    "\n",
    "    # Extract and print results\n",
    "    if street_test:\n",
    "        street_line = street_test.group(0).strip()\n",
    "        print(\"Street:\", street_line)\n",
    "    else:\n",
    "        print(\"Street not matched.\")\n",
    "\n",
    "    if unit_test:\n",
    "        unit_line = unit_test.group(0).strip()\n",
    "        print(\"Unit:\", unit_line)\n",
    "    else:\n",
    "        print(\"Unit not matched.\")\n",
    "        \n"
   ]
  },
  {
   "cell_type": "code",
   "execution_count": 71,
   "metadata": {},
   "outputs": [
    {
     "data": {
      "text/plain": [
       "'Thank you for your business.'"
      ]
     },
     "execution_count": 71,
     "metadata": {},
     "output_type": "execute_result"
    }
   ],
   "source": [
    "text"
   ]
  },
  {
   "cell_type": "code",
   "execution_count": 70,
   "metadata": {},
   "outputs": [
    {
     "name": "stdout",
     "output_type": "stream",
     "text": [
      "Date: 2020-11-30\n"
     ]
    }
   ],
   "source": [
    "# text = \"Date: 2020-11-30\"\n",
    "\n",
    "# Extract date using regex\n",
    "date = re.search(r'Date:\\s*(\\d{4}-\\d{2}-\\d{2})', text).group(1)\n",
    "print(f\"Date: {date}\")\n"
   ]
  },
  {
   "cell_type": "code",
   "execution_count": 74,
   "metadata": {},
   "outputs": [
    {
     "name": "stdout",
     "output_type": "stream",
     "text": [
      "Invoice No: 8713\n"
     ]
    }
   ],
   "source": [
    "# Extract invoice\n",
    "invoice_number = re.search(r'Invoice No: (\\d+)', text).group(1)\n",
    "print(f\"Invoice No: {invoice_number}\")\n"
   ]
  },
  {
   "cell_type": "code",
   "execution_count": 50,
   "metadata": {},
   "outputs": [
    {
     "name": "stdout",
     "output_type": "stream",
     "text": [
      "Client: Branthaven Marz Inc.\n",
      "\n"
     ]
    }
   ],
   "source": [
    "# Extract Client\n",
    "Client = re.search(r'(?:Client|Bill To|Customer):\\s*([\\w\\s&-]+?(?:\\s*(?:Inc\\.|Ltd\\.|LLC|Limited))?)', text)\n",
    "pattern = re.search(r'Client:\\s*([A-Za-z\\s.,-]+)', text).group(1)\n",
    "\n",
    "# Client\n",
    "print(f\"Client: {pattern}\")\n"
   ]
  },
  {
   "cell_type": "code",
   "execution_count": 53,
   "metadata": {},
   "outputs": [
    {
     "name": "stdout",
     "output_type": "stream",
     "text": [
      "Street Address: 30\n",
      "Invoice\n",
      "Client\n"
     ]
    }
   ],
   "source": [
    "# Regex to match the street address\n",
    "street_regex = r'(\\d+\\s+[A-Za-z]+\\s+[A-Za-z]+)'\n",
    "street_match = re.search(street_regex, text)\n",
    "\n",
    "if street_match:\n",
    "    street = street_match.group(1).strip()\n",
    "    print(\"Street Address:\", street)\n",
    "else:\n",
    "    print(\"Street address not found.\")"
   ]
  },
  {
   "cell_type": "code",
   "execution_count": 62,
   "metadata": {},
   "outputs": [
    {
     "name": "stdout",
     "output_type": "stream",
     "text": [
      "'\\nRe: #A0224 - Casa De Torri Qty Rate Price\\nTo bill for Hosting and Upgrades as per section 3 of the contract: 1 400.00 400.00\\nNovember, 2020\\nHST On Sales 13.00% 52.00\\n'\n",
      "Address not found.\n"
     ]
    }
   ],
   "source": [
    "import re\n",
    "\n",
    "print(repr(text))\n",
    "\n",
    "# Regex to match the client address\n",
    "street_regex = r'(\\d+\\s+[A-Za-z]+\\s+[A-Za-z]+)'\n",
    "street_regex = r'(\\d+\\s+[A-Za-z]+\\s+[A-Za-z]+)'\n",
    "\n",
    "import re\n",
    "\n",
    "# Sample text\n",
    "text = \"\"\"\n",
    "Date: 2020-11-30\n",
    "Invoice\n",
    "Client: Branthaven Marz Inc.\n",
    "720 Oval Court\n",
    "Invoice No: 4560\n",
    "Burlington, On\n",
    "L7L 6A9 Agreement No: A0224\n",
    "Terms: Net 30\n",
    "Re: #A0224 - Casa De Torri Qty Rate Price\n",
    "To bill for Hosting and Upgrades as per section 3 of the contract: 1 400.00 400.00\n",
    "November, 2020\n",
    "HST On Sales 13.00% 52.00\n",
    "Total (CDN) $452.00\n",
    "HST 811629252\n",
    "It's been a pleasure working with you!\n",
    "\"\"\"\n",
    "\n",
    "# Split the text into lines\n",
    "lines = text.splitlines()\n",
    "\n",
    "# Initialize variables to store address components\n",
    "street_address = None\n",
    "city = None\n",
    "province = None\n",
    "postal_code = None\n",
    "\n",
    "# Iterate through the lines to find the address\n",
    "for i, line in enumerate(lines):\n",
    "    if \"Client: Branthaven Marz Inc.\" in line:\n",
    "        # The next line should be the street address\n",
    "        if i + 1 < len(lines):\n",
    "            street_address = lines[i + 1].strip()\n",
    "        # The line after that should be the city and province\n",
    "        if i + 2 < len(lines):\n",
    "            city_province = lines[i + 2].strip()\n",
    "            # Split city and province\n",
    "            if \", \" in city_province:\n",
    "                city, province = city_province.split(\", \")\n",
    "        # The line after that should be the postal code\n",
    "        if i + 3 < len(lines):\n",
    "            postal_code = lines[i + 3].strip().split(\" \")[0]  # Extract only the postal code\n",
    "\n",
    "# Print the full address\n",
    "if street_address and city and province and postal_code:\n",
    "    print(\"Full Address:\")\n",
    "    print(f\"{street_address}\\n{city}, {province}\\n{postal_code}\")\n",
    "else:\n",
    "    print(\"Address not found.\")"
   ]
  },
  {
   "cell_type": "code",
   "execution_count": 13,
   "metadata": {},
   "outputs": [
    {
     "data": {
      "text/plain": [
       "'A0224'"
      ]
     },
     "execution_count": 13,
     "metadata": {},
     "output_type": "execute_result"
    }
   ],
   "source": [
    "agreement_number = re.search(r'Agreement No:\\s*([A-Z0-9]+)', text).group(1)\n",
    "print(f\"Agreement No: {agreement_number}\")\n"
   ]
  },
  {
   "cell_type": "code",
   "execution_count": 18,
   "metadata": {},
   "outputs": [
    {
     "data": {
      "text/plain": [
       "'Net 30'"
      ]
     },
     "execution_count": 18,
     "metadata": {},
     "output_type": "execute_result"
    }
   ],
   "source": [
    "terms = re.search(r'Terms:\\s*([\\w\\s]+?)(?:\\n|$)', text).group(1).strip()\n",
    "print(f\"Terms: {terms}\")\n",
    "\n"
   ]
  },
  {
   "cell_type": "code",
   "execution_count": 60,
   "metadata": {},
   "outputs": [
    {
     "name": "stdout",
     "output_type": "stream",
     "text": [
      "Total: $452.00\n"
     ]
    }
   ],
   "source": [
    "total = re.search(r'Total \\(CDN\\)\\s*\\$([\\d,.]+)', text).group(1)\n",
    "print(f\"Total: ${total}\")\n",
    "\n"
   ]
  },
  {
   "cell_type": "code",
   "execution_count": 61,
   "metadata": {},
   "outputs": [
    {
     "name": "stdout",
     "output_type": "stream",
     "text": [
      "Agreement No: A0224\n",
      "Client: Casa De Torri\n",
      "\n",
      "Description: To bill for Hosting and Upgrades as per section 3 of the contract\n",
      "Qty: 1\n",
      "Rate: 400.00\n",
      "Price: 400.00\n",
      "Tax Rate: 13.00%\n",
      "Tax Amount: $52.00\n"
     ]
    }
   ],
   "source": [
    "import re\n",
    "\n",
    "# Sample text\n",
    "text = \"\"\"\n",
    "Re: #A0224 - Casa De Torri Qty Rate Price\n",
    "To bill for Hosting and Upgrades as per section 3 of the contract: 1 400.00 400.00\n",
    "November, 2020\n",
    "HST On Sales 13.00% 52.00\n",
    "\"\"\"\n",
    "\n",
    "# Extract header with Agreement No and Client\n",
    "header_match = re.search(r'Re: #([A-Z0-9]+) - ([A-Za-z\\s]+)\\s*(Qty\\s+Rate\\s+Price)', text)\n",
    "if header_match:\n",
    "    agreement_number = header_match.group(1).strip()\n",
    "    client_name = header_match.group(2).strip()\n",
    "    column_labels = header_match.group(3).strip()\n",
    "    print(f\"Agreement No: {agreement_number}\")\n",
    "    print(f\"Client: {client_name}\")\n",
    "    # print(f\"Column Labels: {column_labels}\")\n",
    "    print()\n",
    "\n",
    "    # Remove the header from the text\n",
    "    # text_without_header = text.replace(header_match.group(0), \"\").strip()\n",
    "    # print(\"\\nText without header:\")\n",
    "    # print(text_without_header)\n",
    "else:\n",
    "    print(\"Header not found.\")\n",
    "\n",
    "# Extract table rows\n",
    "table_row_regex = r'(.+):\\s+(\\d+)\\s+([\\d,.]+)\\s+([\\d,.]+)'\n",
    "matches = re.findall(table_row_regex, text)\n",
    "\n",
    "# Print table data\n",
    "for match in matches:\n",
    "    description, qty, rate, price = match\n",
    "    print(f\"Description: {description.strip()}\")\n",
    "    print(f\"Qty: {qty}\")\n",
    "    print(f\"Rate: {rate}\")\n",
    "    print(f\"Price: {price}\")\n",
    "\n",
    "# Extract tax information\n",
    "tax_match = re.search(r'HST On Sales ([\\d.]+%) ([\\d,.]+)', text)\n",
    "if tax_match:\n",
    "    tax_rate = tax_match.group(1)\n",
    "    tax_amount = tax_match.group(2)\n",
    "    print(f\"Tax Rate: {tax_rate}\")\n",
    "    print(f\"Tax Amount: ${tax_amount}\")"
   ]
  }
 ],
 "metadata": {
  "kernelspec": {
   "display_name": "Python 3",
   "language": "python",
   "name": "python3"
  },
  "language_info": {
   "codemirror_mode": {
    "name": "ipython",
    "version": 3
   },
   "file_extension": ".py",
   "mimetype": "text/x-python",
   "name": "python",
   "nbconvert_exporter": "python",
   "pygments_lexer": "ipython3",
   "version": "3.11.9"
  }
 },
 "nbformat": 4,
 "nbformat_minor": 2
}
