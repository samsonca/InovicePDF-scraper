{
 "cells": [
  {
   "cell_type": "code",
   "execution_count": 34,
   "metadata": {},
   "outputs": [
    {
     "name": "stdout",
     "output_type": "stream",
     "text": [
      "Requirement already satisfied: pymupdf in c:\\users\\samsonc\\appdata\\local\\packages\\pythonsoftwarefoundation.python.3.11_qbz5n2kfra8p0\\localcache\\local-packages\\python311\\site-packages (1.25.2)\n",
      "Note: you may need to restart the kernel to use updated packages.\n",
      "Requirement already satisfied: pikepdf in c:\\users\\samsonc\\appdata\\local\\packages\\pythonsoftwarefoundation.python.3.11_qbz5n2kfra8p0\\localcache\\local-packages\\python311\\site-packages (9.5.1)\n",
      "Requirement already satisfied: Pillow>=10.0.1 in c:\\users\\samsonc\\appdata\\local\\packages\\pythonsoftwarefoundation.python.3.11_qbz5n2kfra8p0\\localcache\\local-packages\\python311\\site-packages (from pikepdf) (11.1.0)\n",
      "Requirement already satisfied: Deprecated in c:\\users\\samsonc\\appdata\\local\\packages\\pythonsoftwarefoundation.python.3.11_qbz5n2kfra8p0\\localcache\\local-packages\\python311\\site-packages (from pikepdf) (1.2.15)\n",
      "Requirement already satisfied: lxml>=4.8 in c:\\users\\samsonc\\appdata\\local\\packages\\pythonsoftwarefoundation.python.3.11_qbz5n2kfra8p0\\localcache\\local-packages\\python311\\site-packages (from pikepdf) (5.3.0)\n",
      "Requirement already satisfied: packaging in c:\\users\\samsonc\\appdata\\local\\packages\\pythonsoftwarefoundation.python.3.11_qbz5n2kfra8p0\\localcache\\local-packages\\python311\\site-packages (from pikepdf) (24.2)\n",
      "Requirement already satisfied: wrapt<2,>=1.10 in c:\\users\\samsonc\\appdata\\local\\packages\\pythonsoftwarefoundation.python.3.11_qbz5n2kfra8p0\\localcache\\local-packages\\python311\\site-packages (from Deprecated->pikepdf) (1.17.2)\n",
      "Note: you may need to restart the kernel to use updated packages.\n",
      "Requirement already satisfied: pytesseract in c:\\users\\samsonc\\appdata\\local\\packages\\pythonsoftwarefoundation.python.3.11_qbz5n2kfra8p0\\localcache\\local-packages\\python311\\site-packages (0.3.13)\n",
      "Requirement already satisfied: packaging>=21.3 in c:\\users\\samsonc\\appdata\\local\\packages\\pythonsoftwarefoundation.python.3.11_qbz5n2kfra8p0\\localcache\\local-packages\\python311\\site-packages (from pytesseract) (24.2)\n",
      "Requirement already satisfied: Pillow>=8.0.0 in c:\\users\\samsonc\\appdata\\local\\packages\\pythonsoftwarefoundation.python.3.11_qbz5n2kfra8p0\\localcache\\local-packages\\python311\\site-packages (from pytesseract) (11.1.0)\n",
      "Note: you may need to restart the kernel to use updated packages.\n",
      "Requirement already satisfied: camelot-py in c:\\users\\samsonc\\appdata\\local\\packages\\pythonsoftwarefoundation.python.3.11_qbz5n2kfra8p0\\localcache\\local-packages\\python311\\site-packages (1.0.0)\n",
      "Requirement already satisfied: click>=8.0.1 in c:\\users\\samsonc\\appdata\\local\\packages\\pythonsoftwarefoundation.python.3.11_qbz5n2kfra8p0\\localcache\\local-packages\\python311\\site-packages (from camelot-py) (8.1.8)\n",
      "Requirement already satisfied: chardet>=5.1.0 in c:\\users\\samsonc\\appdata\\local\\packages\\pythonsoftwarefoundation.python.3.11_qbz5n2kfra8p0\\localcache\\local-packages\\python311\\site-packages (from camelot-py) (5.2.0)\n",
      "Requirement already satisfied: numpy>=1.24.4 in c:\\users\\samsonc\\appdata\\local\\packages\\pythonsoftwarefoundation.python.3.11_qbz5n2kfra8p0\\localcache\\local-packages\\python311\\site-packages (from camelot-py) (2.2.0)\n",
      "Requirement already satisfied: openpyxl>=3.1.0 in c:\\users\\samsonc\\appdata\\local\\packages\\pythonsoftwarefoundation.python.3.11_qbz5n2kfra8p0\\localcache\\local-packages\\python311\\site-packages (from camelot-py) (3.1.5)\n",
      "Requirement already satisfied: pdfminer-six>=20240706 in c:\\users\\samsonc\\appdata\\local\\packages\\pythonsoftwarefoundation.python.3.11_qbz5n2kfra8p0\\localcache\\local-packages\\python311\\site-packages (from camelot-py) (20240706)\n",
      "Requirement already satisfied: pypdf<4.0,>=3.17 in c:\\users\\samsonc\\appdata\\local\\packages\\pythonsoftwarefoundation.python.3.11_qbz5n2kfra8p0\\localcache\\local-packages\\python311\\site-packages (from camelot-py) (3.17.4)\n",
      "Requirement already satisfied: pandas>=2.2.2 in c:\\users\\samsonc\\appdata\\local\\packages\\pythonsoftwarefoundation.python.3.11_qbz5n2kfra8p0\\localcache\\local-packages\\python311\\site-packages (from camelot-py) (2.2.3)\n",
      "Requirement already satisfied: tabulate>=0.9.0 in c:\\users\\samsonc\\appdata\\local\\packages\\pythonsoftwarefoundation.python.3.11_qbz5n2kfra8p0\\localcache\\local-packages\\python311\\site-packages (from camelot-py) (0.9.0)\n",
      "Requirement already satisfied: opencv-python-headless>=4.7.0.68 in c:\\users\\samsonc\\appdata\\local\\packages\\pythonsoftwarefoundation.python.3.11_qbz5n2kfra8p0\\localcache\\local-packages\\python311\\site-packages (from camelot-py) (4.11.0.86)\n",
      "Requirement already satisfied: pypdfium2>=4 in c:\\users\\samsonc\\appdata\\local\\packages\\pythonsoftwarefoundation.python.3.11_qbz5n2kfra8p0\\localcache\\local-packages\\python311\\site-packages (from camelot-py) (4.30.1)\n",
      "Requirement already satisfied: colorama in c:\\users\\samsonc\\appdata\\local\\packages\\pythonsoftwarefoundation.python.3.11_qbz5n2kfra8p0\\localcache\\local-packages\\python311\\site-packages (from click>=8.0.1->camelot-py) (0.4.6)\n",
      "Requirement already satisfied: et-xmlfile in c:\\users\\samsonc\\appdata\\local\\packages\\pythonsoftwarefoundation.python.3.11_qbz5n2kfra8p0\\localcache\\local-packages\\python311\\site-packages (from openpyxl>=3.1.0->camelot-py) (2.0.0)\n",
      "Requirement already satisfied: python-dateutil>=2.8.2 in c:\\users\\samsonc\\appdata\\local\\packages\\pythonsoftwarefoundation.python.3.11_qbz5n2kfra8p0\\localcache\\local-packages\\python311\\site-packages (from pandas>=2.2.2->camelot-py) (2.9.0.post0)\n",
      "Requirement already satisfied: pytz>=2020.1 in c:\\users\\samsonc\\appdata\\local\\packages\\pythonsoftwarefoundation.python.3.11_qbz5n2kfra8p0\\localcache\\local-packages\\python311\\site-packages (from pandas>=2.2.2->camelot-py) (2024.2)\n",
      "Requirement already satisfied: tzdata>=2022.7 in c:\\users\\samsonc\\appdata\\local\\packages\\pythonsoftwarefoundation.python.3.11_qbz5n2kfra8p0\\localcache\\local-packages\\python311\\site-packages (from pandas>=2.2.2->camelot-py) (2024.2)\n",
      "Requirement already satisfied: charset-normalizer>=2.0.0 in c:\\users\\samsonc\\appdata\\local\\packages\\pythonsoftwarefoundation.python.3.11_qbz5n2kfra8p0\\localcache\\local-packages\\python311\\site-packages (from pdfminer-six>=20240706->camelot-py) (3.4.0)\n",
      "Requirement already satisfied: cryptography>=36.0.0 in c:\\users\\samsonc\\appdata\\local\\packages\\pythonsoftwarefoundation.python.3.11_qbz5n2kfra8p0\\localcache\\local-packages\\python311\\site-packages (from pdfminer-six>=20240706->camelot-py) (44.0.0)\n",
      "Requirement already satisfied: cffi>=1.12 in c:\\users\\samsonc\\appdata\\local\\packages\\pythonsoftwarefoundation.python.3.11_qbz5n2kfra8p0\\localcache\\local-packages\\python311\\site-packages (from cryptography>=36.0.0->pdfminer-six>=20240706->camelot-py) (1.17.1)\n",
      "Requirement already satisfied: six>=1.5 in c:\\users\\samsonc\\appdata\\local\\packages\\pythonsoftwarefoundation.python.3.11_qbz5n2kfra8p0\\localcache\\local-packages\\python311\\site-packages (from python-dateutil>=2.8.2->pandas>=2.2.2->camelot-py) (1.17.0)\n",
      "Requirement already satisfied: pycparser in c:\\users\\samsonc\\appdata\\local\\packages\\pythonsoftwarefoundation.python.3.11_qbz5n2kfra8p0\\localcache\\local-packages\\python311\\site-packages (from cffi>=1.12->cryptography>=36.0.0->pdfminer-six>=20240706->camelot-py) (2.22)\n",
      "Note: you may need to restart the kernel to use updated packages.\n",
      "Collecting pdfplumber\n",
      "  Downloading pdfplumber-0.11.5-py3-none-any.whl.metadata (42 kB)\n",
      "Collecting pdfminer.six==20231228 (from pdfplumber)\n",
      "  Downloading pdfminer.six-20231228-py3-none-any.whl.metadata (4.2 kB)\n",
      "Requirement already satisfied: Pillow>=9.1 in c:\\users\\samsonc\\appdata\\local\\packages\\pythonsoftwarefoundation.python.3.11_qbz5n2kfra8p0\\localcache\\local-packages\\python311\\site-packages (from pdfplumber) (11.1.0)\n",
      "Requirement already satisfied: pypdfium2>=4.18.0 in c:\\users\\samsonc\\appdata\\local\\packages\\pythonsoftwarefoundation.python.3.11_qbz5n2kfra8p0\\localcache\\local-packages\\python311\\site-packages (from pdfplumber) (4.30.1)\n",
      "Requirement already satisfied: charset-normalizer>=2.0.0 in c:\\users\\samsonc\\appdata\\local\\packages\\pythonsoftwarefoundation.python.3.11_qbz5n2kfra8p0\\localcache\\local-packages\\python311\\site-packages (from pdfminer.six==20231228->pdfplumber) (3.4.0)\n",
      "Requirement already satisfied: cryptography>=36.0.0 in c:\\users\\samsonc\\appdata\\local\\packages\\pythonsoftwarefoundation.python.3.11_qbz5n2kfra8p0\\localcache\\local-packages\\python311\\site-packages (from pdfminer.six==20231228->pdfplumber) (44.0.0)\n",
      "Requirement already satisfied: cffi>=1.12 in c:\\users\\samsonc\\appdata\\local\\packages\\pythonsoftwarefoundation.python.3.11_qbz5n2kfra8p0\\localcache\\local-packages\\python311\\site-packages (from cryptography>=36.0.0->pdfminer.six==20231228->pdfplumber) (1.17.1)\n",
      "Requirement already satisfied: pycparser in c:\\users\\samsonc\\appdata\\local\\packages\\pythonsoftwarefoundation.python.3.11_qbz5n2kfra8p0\\localcache\\local-packages\\python311\\site-packages (from cffi>=1.12->cryptography>=36.0.0->pdfminer.six==20231228->pdfplumber) (2.22)\n",
      "Downloading pdfplumber-0.11.5-py3-none-any.whl (59 kB)\n",
      "Downloading pdfminer.six-20231228-py3-none-any.whl (5.6 MB)\n",
      "   ---------------------------------------- 0.0/5.6 MB ? eta -:--:--\n",
      "   ---------------------------------------- 5.6/5.6 MB 48.7 MB/s eta 0:00:00\n",
      "Installing collected packages: pdfminer.six, pdfplumber\n",
      "  Attempting uninstall: pdfminer.six\n",
      "    Found existing installation: pdfminer.six 20240706\n",
      "    Uninstalling pdfminer.six-20240706:\n",
      "      Successfully uninstalled pdfminer.six-20240706\n",
      "Successfully installed pdfminer.six-20231228 pdfplumber-0.11.5\n",
      "Note: you may need to restart the kernel to use updated packages.\n"
     ]
    },
    {
     "name": "stderr",
     "output_type": "stream",
     "text": [
      "ERROR: pip's dependency resolver does not currently take into account all the packages that are installed. This behaviour is the source of the following dependency conflicts.\n",
      "camelot-py 1.0.0 requires pdfminer-six>=20240706, but you have pdfminer-six 20231228 which is incompatible.\n"
     ]
    }
   ],
   "source": [
    "%pip install pymupdf\n",
    "%pip install pikepdf\n",
    "%pip install pytesseract\n",
    "%pip install camelot-py\n",
    "%pip install pdfplumber\n"
   ]
  },
  {
   "cell_type": "code",
   "execution_count": 18,
   "metadata": {},
   "outputs": [
    {
     "name": "stdout",
     "output_type": "stream",
     "text": [
      "PDF is not encrypted.\n",
      "No explicit permissions set.\n"
     ]
    }
   ],
   "source": [
    "import pikepdf\n",
    "\n",
    "# Path to your PDF\n",
    "pdf_path = r\"C:\\Users\\SamsonC\\Downloads\\srn-invoice.pdf\"  # Raw string\n",
    "\n",
    "# Open the PDF\n",
    "with pikepdf.open(pdf_path) as pdf:\n",
    "    # Check if the PDF is encrypted\n",
    "    if pdf.is_encrypted:\n",
    "        print(\"PDF is encrypted.\")\n",
    "    else:\n",
    "        print(\"PDF is not encrypted.\")\n",
    "\n",
    "    # Check permissions\n",
    "    permissions = pdf.Root.get(\"/Permissions\", None)\n",
    "    if permissions is not None:\n",
    "        print(f\"Permissions: {permissions}\")\n",
    "    else:\n",
    "        print(\"No explicit permissions set.\")"
   ]
  },
  {
   "cell_type": "code",
   "execution_count": 20,
   "metadata": {},
   "outputs": [
    {
     "name": "stdout",
     "output_type": "stream",
     "text": [
      "INVOICE\n",
      "\n",
      "Garden\n",
      ".\n",
      "repairs\n",
      "Your business name, 126 Industry Road, Auckland 1061 New Zealand\n",
      "BILL TO:\n",
      "Your client's name\n",
      "75 Hamlin Road Issue Date: 30/06/2022\n",
      "Aucland 1060 Due Date: 14/07/2022\n",
      "New Zealand Reference: 2022006\n",
      "Invoice Ni Issue Date Due Date Total Due (NZD)\n",
      "2022006 30/06/2022 14/07/2022 $100.00\n",
      "Description Quantity Unit Price ($) Amount ($)\n",
      "Sample Service 1 $100.00 $100.00\n",
      "Total (NZD): $100.00\n",
      "\n",
      "Issued by, signature:\n",
      "\n",
      "Gaiden Aepairs\n",
      "\n",
      "email@yourbusinessname.co.nz\n",
      "\n",
      "Your business name\n",
      "126 Industry Road\n",
      "Auckland 1061\n",
      "New Zealand\n",
      "\n",
      "\n"
     ]
    }
   ],
   "source": [
    "import pytesseract\n",
    "\n",
    "# Specify the path to the Tesseract executable\n",
    "pytesseract.pytesseract.tesseract_cmd = r\"C:\\Users\\SamsonC\\AppData\\Local\\Programs\\Tesseract-OCR\\tesseract.exe\"\n",
    "\n",
    "# Now you can use pytesseract as usual\n",
    "text = pytesseract.image_to_string(\"C:\\\\Users\\\\SamsonC\\\\Downloads\\\\testing.png\")\n",
    "print(text)"
   ]
  },
  {
   "cell_type": "code",
   "execution_count": 68,
   "metadata": {},
   "outputs": [
    {
     "ename": "UnidentifiedImageError",
     "evalue": "cannot identify image file 'C:\\\\Users\\\\SamsonC\\\\Documents\\\\Accounting\\\\Accounting_AR\\\\invoice_pdf\\\\8713.pdf'",
     "output_type": "error",
     "traceback": [
      "\u001b[1;31m---------------------------------------------------------------------------\u001b[0m",
      "\u001b[1;31mUnidentifiedImageError\u001b[0m                    Traceback (most recent call last)",
      "Cell \u001b[1;32mIn[68], line 7\u001b[0m\n\u001b[0;32m      5\u001b[0m \u001b[38;5;66;03m# Load an image\u001b[39;00m\n\u001b[0;32m      6\u001b[0m image_path \u001b[38;5;241m=\u001b[39m \u001b[38;5;124mr\u001b[39m\u001b[38;5;124m\"\u001b[39m\u001b[38;5;124mC:\u001b[39m\u001b[38;5;124m\\\u001b[39m\u001b[38;5;124mUsers\u001b[39m\u001b[38;5;124m\\\u001b[39m\u001b[38;5;124mSamsonC\u001b[39m\u001b[38;5;124m\\\u001b[39m\u001b[38;5;124mDocuments\u001b[39m\u001b[38;5;124m\\\u001b[39m\u001b[38;5;124mAccounting\u001b[39m\u001b[38;5;124m\\\u001b[39m\u001b[38;5;124mAccounting_AR\u001b[39m\u001b[38;5;124m\\\u001b[39m\u001b[38;5;124minvoice_pdf\u001b[39m\u001b[38;5;124m\\\u001b[39m\u001b[38;5;124m8713.pdf\u001b[39m\u001b[38;5;124m\"\u001b[39m \u001b[38;5;66;03m# Replace with the path to your image\u001b[39;00m\n\u001b[1;32m----> 7\u001b[0m img \u001b[38;5;241m=\u001b[39m \u001b[43mImage\u001b[49m\u001b[38;5;241;43m.\u001b[39;49m\u001b[43mopen\u001b[49m\u001b[43m(\u001b[49m\u001b[43mimage_path\u001b[49m\u001b[43m)\u001b[49m\n\u001b[0;32m      9\u001b[0m \u001b[38;5;66;03m# Extract text using Tesseract\u001b[39;00m\n\u001b[0;32m     10\u001b[0m text \u001b[38;5;241m=\u001b[39m pytesseract\u001b[38;5;241m.\u001b[39mimage_to_string(img)\n",
      "File \u001b[1;32m~\\AppData\\Local\\Packages\\PythonSoftwareFoundation.Python.3.11_qbz5n2kfra8p0\\LocalCache\\local-packages\\Python311\\site-packages\\PIL\\Image.py:3532\u001b[0m, in \u001b[0;36mopen\u001b[1;34m(fp, mode, formats)\u001b[0m\n\u001b[0;32m   3530\u001b[0m     warnings\u001b[38;5;241m.\u001b[39mwarn(message)\n\u001b[0;32m   3531\u001b[0m msg \u001b[38;5;241m=\u001b[39m \u001b[38;5;124m\"\u001b[39m\u001b[38;5;124mcannot identify image file \u001b[39m\u001b[38;5;132;01m%r\u001b[39;00m\u001b[38;5;124m\"\u001b[39m \u001b[38;5;241m%\u001b[39m (filename \u001b[38;5;28;01mif\u001b[39;00m filename \u001b[38;5;28;01melse\u001b[39;00m fp)\n\u001b[1;32m-> 3532\u001b[0m \u001b[38;5;28;01mraise\u001b[39;00m UnidentifiedImageError(msg)\n",
      "\u001b[1;31mUnidentifiedImageError\u001b[0m: cannot identify image file 'C:\\\\Users\\\\SamsonC\\\\Documents\\\\Accounting\\\\Accounting_AR\\\\invoice_pdf\\\\8713.pdf'"
     ]
    }
   ],
   "source": [
    "# Testing Tesseract\n",
    "import pytesseract\n",
    "from PIL import Image\n",
    "\n",
    "# Load an image\n",
    "image_path = r\"C:\\Users\\SamsonC\\Downloads\\testing.png\" # Replace with the path to your image\n",
    "img = Image.open(image_path)\n",
    "\n",
    "# Extract text using Tesseract\n",
    "text = pytesseract.image_to_string(img)\n",
    "print(\"Extracted Text:\")\n",
    "print(text)"
   ]
  },
  {
   "cell_type": "code",
   "execution_count": null,
   "metadata": {},
   "outputs": [],
   "source": [
    "pdf_folder = r\"C:\\Users\\SamsonC\\Documents\\Accounting\\Accounting_AR\\invoice_pdf\"  # Replace with the path to your folder\n"
   ]
  },
  {
   "cell_type": "code",
   "execution_count": 69,
   "metadata": {},
   "outputs": [
    {
     "name": "stdout",
     "output_type": "stream",
     "text": [
      "--------------Extracting Text------------------\n",
      "--- Page 1 (Text Layer) ---\n",
      "Invoice\n",
      "Date:\n",
      "2023-10-31\n",
      "Invoice No:\n",
      "8713\n",
      "Deco Homes\n",
      "570 Applewood Crescent,\n",
      "Unit 1\n",
      "Vaughan, ON\n",
      "L4K 4B4\n",
      "Agreement No:\n",
      "A0546\n",
      "Terms:\n",
      "Net 30\n",
      "Re:\n",
      "#A0546 - Honeystone\n",
      "811629252\n",
      "Client:\n",
      "HST\n",
      "Thank you for your business.\n",
      "Total (CDN)\n",
      "Qty\n",
      "Rate\n",
      "Price\n",
      "To bill for time spent in October 2023 after launch on document\n",
      "revisions as per Schedule \"A1\" - Fee Schedule of the contract (1.5\n",
      "hours)\n",
      "1.5\n",
      "150.00\n",
      "225.00\n",
      "- Schedule S - Site Plan\n",
      "HST On Sales\n",
      "13.00%\n",
      "29.25\n",
      "$254.25\n",
      "\n",
      "--------------Successfully Extracting Text------------------\n",
      "Street: \n",
      "8713\n",
      "Deco Homes\n",
      "570 Applewood Crescent,\n",
      "Unit 1\n",
      "City: Vaughan\n",
      "Province: ON\n",
      "Postal Code: L4K 4B4\n",
      "Street Match Test: Invoice\n",
      "Date\n",
      "City Match Test: \n",
      "8713\n",
      "Deco Homes\n",
      "570 Applewood Crescent\n",
      "Province Match Test: ON\n",
      "Postal Code Match Test: L4K 4B4\n"
     ]
    }
   ],
   "source": [
    "import fitz  # PyMuPDF\n",
    "import pytesseract\n",
    "from PIL import Image\n",
    "import re\n",
    "\n",
    "# Path to your PDF file\n",
    "# pdf_path = r\"C:\\Users\\SamsonC\\Documents\\Accounting\\Accounting_AR\\invoice_pdf\\salefish-invoice.pdf\"\n",
    "pdf_path = r\"C:\\Users\\SamsonC\\Documents\\Accounting\\Accounting_AR\\invoice_pdf\\8713.pdf\"\n",
    "# pdf_path = r\"C:\\Users\\SamsonC\\Documents\\Accounting\\Accounting_AR\\invoice_pdf\\coolaid-invoice.pdf\"\n",
    "\n",
    "# scanned invoice\n",
    "# pdf_path = r\"C:\\Users\\SamsonC\\Documents\\Accounting\\Accounting_AR\\invoice_pdf\\rn-invoice.pdf\"\n",
    "\n",
    "# Path to Tesseract executable (if not in PATH)\n",
    "# Uncomment and update the path if needed:\n",
    "pytesseract.pytesseract.tesseract_cmd = r\"C:\\Users\\SamsonC\\AppData\\Local\\Programs\\Tesseract-OCR\\tesseract.exe\"\n",
    "\n",
    "# Open the PDF file\n",
    "doc = fitz.open(pdf_path)\n",
    "\n",
    "# Iterate through each page\n",
    "for page_num in range(len(doc)):\n",
    "    page = doc.load_page(page_num)  # Load the page\n",
    "\n",
    "    # Extract text directly from the page\n",
    "    text = page.get_text()\n",
    "    print(\"--------------Extracting Text------------------\")\n",
    "    print(f\"--- Page {page_num + 1} (Text Layer) ---\")\n",
    "    print(text)\n",
    "    print(\"--------------Successfully Extracting Text------------------\")\n",
    "\n",
    "    regex = r\"(?P<street>[\\d\\w\\s]+(?:,\\s*Unit\\s*\\d+)?)\\s*(?P<city>[\\w\\s]+),\\s*(?P<province>[A-Z]{2})\\s*(?P<postal_code>[A-Z]\\d[A-Z]\\s*\\d[A-Z]\\d)\"\n",
    "    match = re.search(regex, text, re.DOTALL)\n",
    "\n",
    "    if match:\n",
    "        print(\"Street:\", match.group(\"street\"))\n",
    "        print(\"City:\", match.group(\"city\"))\n",
    "        print(\"Province:\", match.group(\"province\"))\n",
    "        print(\"Postal Code:\", match.group(\"postal_code\"))\n",
    "\n",
    "\n",
    "        # Debugging: Test smaller parts of the regex\n",
    "    street_test = re.search(r\"[\\d\\w\\s,]+(?:,\\s*Unit|Suite\\s*\\d+)?\", text, re.DOTALL)\n",
    "    if street_test:\n",
    "        print(\"Street Match Test:\", street_test.group(0))\n",
    "    else:\n",
    "        print(\"Street not matched. Check formatting or regex.\")\n",
    "\n",
    "    city_test = re.search(r\"[\\w\\s]+(?=,)\", text)\n",
    "    if city_test:\n",
    "        print(\"City Match Test:\", city_test.group(0))\n",
    "    else:\n",
    "        print(\"City not matched.\")\n",
    "\n",
    "    province_test = re.search(r\"[A-Z]{2}\", text)\n",
    "    if province_test:\n",
    "        print(\"Province Match Test:\", province_test.group(0))\n",
    "    else:\n",
    "        print(\"Province not matched.\")\n",
    "\n",
    "    postal_test = re.search(r\"[A-Z]\\d[A-Z]\\s*\\d[A-Z]\\d\", text)\n",
    "    if postal_test:\n",
    "        print(\"Postal Code Match Test:\", postal_test.group(0))\n",
    "    else:\n",
    "        print(\"Postal code not matched.\")\n",
    "\n",
    "    # # Extract images and use OCR if needed\n",
    "    # image_list = page.get_images(full=True)  # Get all images on the page\n",
    "\n",
    "    # # Check if there are images on the page\n",
    "    # if image_list:\n",
    "    #     print(\"--------------Extracting Images------------------\")\n",
    "    #     print(f\"Found {len(image_list)} images on page {page_num + 1}.\")\n",
    "\n",
    "    #     for img_index, img in enumerate(image_list):\n",
    "    #         xref = img[0]  # XREF number of the image\n",
    "    #         base_image = doc.extract_image(xref)  # Extract the image\n",
    "    #         image_bytes = base_image[\"image\"]  # Raw image bytes\n",
    "    #         image_ext = base_image[\"ext\"]  # Image extension (e.g., \"png\", \"jpeg\")\n",
    "\n",
    "    #         # Save the image to a file\n",
    "    #         image_filename = f\"page_{page_num + 1}_image_{img_index + 1}.{image_ext}\"\n",
    "    #         with open(image_filename, \"wb\") as image_file:\n",
    "    #             image_file.write(image_bytes)\n",
    "    #         print(f\"Saved {image_filename}\")\n",
    "\n",
    "    #         # Use OCR to extract text from the image\n",
    "    #         img_pil = Image.open(image_filename)\n",
    "    #         text = pytesseract.image_to_string(img_pil)\n",
    "    #         print(f\"Text extracted from {image_filename}:\")\n",
    "    #         print(text)\n",
    "    #         print(\"--------------Successfully Extracting Images------------------\")\n",
    "\n",
    "    # else:\n",
    "    #     print(f\"No images found on page {page_num + 1}.\")\n",
    "    # print(\"-\" * 40)  # Separator for clarity\n",
    "\n",
    "    \n"
   ]
  },
  {
   "cell_type": "markdown",
   "metadata": {},
   "source": [
    "Verify Image Extraction"
   ]
  },
  {
   "cell_type": "code",
   "execution_count": 49,
   "metadata": {},
   "outputs": [
    {
     "name": "stdout",
     "output_type": "stream",
     "text": [
      "Found 2 images on page 1.\n",
      "Saved page_1_image_1.png\n",
      "Saved page_1_image_2.png\n"
     ]
    }
   ],
   "source": [
    "import fitz  # PyMuPDF\n",
    "\n",
    "# pdf_path = r\"C:\\Users\\SamsonC\\Documents\\Accounting\\Accounting_AR\\invoice_pdf\\salefish-invoice.pdf\"\n",
    "pdf_path = r\"C:\\Users\\SamsonC\\Documents\\Accounting\\Accounting_AR\\invoice_pdf\\salefish-invoice.pdf\"\n",
    "doc = fitz.open(pdf_path)\n",
    "\n",
    "for page_num in range(len(doc)):\n",
    "    page = doc.load_page(page_num)\n",
    "    image_list = page.get_images(full=True)\n",
    "\n",
    "    if image_list:\n",
    "        print(f\"Found {len(image_list)} images on page {page_num + 1}.\")\n",
    "\n",
    "        for img_index, img in enumerate(image_list):\n",
    "            xref = img[0]  # XREF number of the image\n",
    "            base_image = doc.extract_image(xref)  # Extract the image\n",
    "            image_bytes = base_image[\"image\"]  # Raw image bytes\n",
    "\n",
    "            # Save the image to a file\n",
    "            image_filename = f\"page_{page_num + 1}_image_{img_index + 1}.png\"\n",
    "            with open(image_filename, \"wb\") as image_file:\n",
    "                image_file.write(image_bytes)\n",
    "            print(f\"Saved {image_filename}\")\n",
    "    else:\n",
    "        print(f\"No images found on page {page_num + 1}.\")"
   ]
  },
  {
   "cell_type": "markdown",
   "metadata": {},
   "source": [
    "Verify OCR Setup"
   ]
  },
  {
   "cell_type": "code",
   "execution_count": 50,
   "metadata": {},
   "outputs": [
    {
     "name": "stdout",
     "output_type": "stream",
     "text": [
      "OCR Output:\n",
      "ye\n",
      "\n",
      "SA\n",
      "LEFISH\n",
      "\n",
      "\n"
     ]
    }
   ],
   "source": [
    "import pytesseract\n",
    "from PIL import Image\n",
    "\n",
    "# Specify the path to the Tesseract executable\n",
    "pytesseract.pytesseract.tesseract_cmd = r\"C:\\Users\\SamsonC\\AppData\\Local\\Programs\\Tesseract-OCR\\tesseract.exe\"\n",
    "\n",
    "# Path to a sample image (replace with one of the images you saved)\n",
    "image_filename = \"page_1_image_1.png\"\n",
    "\n",
    "# Open the image and perform OCR\n",
    "try:\n",
    "    img_pil = Image.open(image_filename)\n",
    "    text = pytesseract.image_to_string(img_pil)\n",
    "    print(\"OCR Output:\")\n",
    "    print(text)\n",
    "except Exception as e:\n",
    "    print(f\"Error during OCR: {e}\")"
   ]
  },
  {
   "cell_type": "code",
   "execution_count": 51,
   "metadata": {},
   "outputs": [
    {
     "name": "stdout",
     "output_type": "stream",
     "text": [
      "         0           1      2       3\n",
      "0  Invoice     Number:  12345    None\n",
      "1    Date:  2023-10-01   None    None\n",
      "2     Item    Quantity  Price    None\n",
      "3     Item           1      2  $10.00\n",
      "4     Item           2      1  $15.00\n"
     ]
    }
   ],
   "source": [
    "import pandas as pd\n",
    "\n",
    "# Example OCR output (replace with your actual OCR output)\n",
    "ocr_output = \"\"\"\n",
    "Invoice Number: 12345\n",
    "Date: 2023-10-01\n",
    "Item        Quantity    Price\n",
    "Item 1      2           $10.00\n",
    "Item 2      1           $15.00\n",
    "\"\"\"\n",
    "\n",
    "# Split the OCR output into lines\n",
    "lines = ocr_output.strip().split(\"\\n\")\n",
    "\n",
    "# Parse the table data\n",
    "table_data = []\n",
    "for line in lines:\n",
    "    # Split each line into columns (assuming columns are separated by spaces or tabs)\n",
    "    columns = line.split()\n",
    "    table_data.append(columns)\n",
    "\n",
    "# Convert to a pandas DataFrame\n",
    "df = pd.DataFrame(table_data)\n",
    "print(df)"
   ]
  }
 ],
 "metadata": {
  "kernelspec": {
   "display_name": "Python 3",
   "language": "python",
   "name": "python3"
  },
  "language_info": {
   "codemirror_mode": {
    "name": "ipython",
    "version": 3
   },
   "file_extension": ".py",
   "mimetype": "text/x-python",
   "name": "python",
   "nbconvert_exporter": "python",
   "pygments_lexer": "ipython3",
   "version": "3.11.9"
  }
 },
 "nbformat": 4,
 "nbformat_minor": 2
}
