{
 "cells": [
  {
   "cell_type": "code",
   "execution_count": 6,
   "metadata": {},
   "outputs": [],
   "source": [
    "import pdfplumber\n",
    "import re"
   ]
  },
  {
   "cell_type": "code",
   "execution_count": 7,
   "metadata": {},
   "outputs": [],
   "source": [
    "# location = r\"C:\\Users\\SamsonC\\Documents\\Accounting\\Accounting_AR\\invoice_pdf\\salefish-invoice.pdf\"\n",
    "location = r\"C:\\Users\\SamsonC\\Documents\\Accounting\\Accounting_AR\\invoice_pdf\\8713.pdf\"\n",
    "\n",
    "\n"
   ]
  },
  {
   "cell_type": "code",
   "execution_count": 19,
   "metadata": {},
   "outputs": [
    {
     "name": "stdout",
     "output_type": "stream",
     "text": [
      "Date: 2023-10-31\n",
      "Invoice\n",
      "Client: Deco Homes\n",
      "570 Applewood Crescent,\n",
      "Invoice No: 8713\n",
      "Unit 1\n",
      "Vaughan, ON Agreement No: A0546\n",
      "L4K 4B4\n",
      "Terms: Net 30\n",
      "Re: #A0546 - Honeystone Qty Rate Price\n",
      "To bill for time spent in October 2023 after launch on document 1.5 150.00 225.00\n",
      "revisions as per Schedule \"A1\" - Fee Schedule of the contract (1.5\n",
      "hours)\n",
      "- Schedule S - Site Plan\n",
      "HST On Sales 13.00% 29.25\n",
      "Total (CDN) $254.25\n",
      "HST 811629252\n",
      "Thank you for your business.\n",
      "---------------------\n",
      "Date: 2023-10-31\n",
      "Invoice No: 8713\n",
      "Client: Deco Homes\n",
      "Address: 570 Applewood Crescent,\n",
      "Unit: Unit 1\n",
      "City: Vaughan\n",
      "Province: ON\n",
      "Postal Code: L4K 4B4\n"
     ]
    }
   ],
   "source": [
    "import pdfplumber\n",
    "import re\n",
    "\n",
    "\n",
    "with pdfplumber.open(location) as pdf:\n",
    "    text = \"\\n\".join(page.extract_text() for page in pdf.pages if page.extract_text())\n",
    "\n",
    "    print(text)\n",
    "print(\"---------------------\")\n",
    "lines = text.split(\"\\n\")  \n",
    "\n",
    "# extract Date\n",
    "date_match = re.search(r'Date:\\s*(\\d{4}-\\d{2}-\\d{2})', text)\n",
    "date = date_match.group(1) if date_match else \"Date not found\"\n",
    "print(f\"Date: {date}\")\n",
    "\n",
    "# extract Invoice Number\n",
    "invoice_match = re.search(r'Invoice No:\\s*(\\d+)', text)\n",
    "invoice_number = invoice_match.group(1) if invoice_match else \"Invoice No not found\"\n",
    "print(f\"Invoice No: {invoice_number}\")\n",
    "\n",
    "# extract Client Name\n",
    "client_match = re.search(r'Client:\\s*([A-Za-z\\s.,-]+)', text)\n",
    "client_name = client_match.group(1).strip() if client_match else \"Client not found\"\n",
    "print(f\"Client: {client_name}\")\n",
    "\n",
    "# extract Client Address\n",
    "extracted_address = None\n",
    "\n",
    "for i, line in enumerate(lines):\n",
    "    if client_name in line:\n",
    "        if i + 1 < len(lines):  # ensure there's a next line\n",
    "            next_line = lines[i + 1].strip()\n",
    "            # address validation pattern (assumes addresses start with a number)\n",
    "            if re.match(r\"^\\d{1,5}\\s[\\w\\s]+[,\\s]*$\", next_line):\n",
    "                extracted_address = next_line\n",
    "                break\n",
    "\n",
    "print(f\"Address: {extracted_address if extracted_address else 'No address found'}\")\n",
    "\n",
    "unit = re.search(r\"^\\s*Unit\\s*\\d+\", text, re.MULTILINE)           # Strictly match unit lines\n",
    "if unit:\n",
    "    unit_line = unit.group(0).strip()\n",
    "    print(\"Unit:\", unit_line)\n",
    "\n",
    "city_test = re.search(r\"(?m)^\\s*[A-Za-z\\s]+(?=, ON)\", text)\n",
    "if city_test:\n",
    "    print(\"City:\", city_test.group(0))\n",
    "else:\n",
    "    print(\"City not matched.\")\n",
    "\n",
    "province_test = re.search(r\"[A-Z]{2}\", text)\n",
    "if province_test:\n",
    "    print(\"Province:\", province_test.group(0))\n",
    "else:\n",
    "    print(\"Province not matched.\")\n",
    "\n",
    "postal_test = re.search(r\"[A-Z]\\d[A-Z]\\s*\\d[A-Z]\\d\", text)\n",
    "if postal_test:\n",
    "    print(\"Postal Code:\", postal_test.group(0))\n",
    "else:\n",
    "    print(\"Postal code not matched.\")\n"
   ]
  },
  {
   "cell_type": "code",
   "execution_count": 9,
   "metadata": {},
   "outputs": [
    {
     "data": {
      "text/plain": [
       "'Date: 2023-10-31\\nInvoice\\nClient: Deco Homes\\n570 Applewood Crescent,\\nInvoice No: 8713\\nUnit 1\\nVaughan, ON Agreement No: A0546\\nL4K 4B4\\nTerms: Net 30\\nRe: #A0546 - Honeystone Qty Rate Price\\nTo bill for time spent in October 2023 after launch on document 1.5 150.00 225.00\\nrevisions as per Schedule \"A1\" - Fee Schedule of the contract (1.5\\nhours)\\n- Schedule S - Site Plan\\nHST On Sales 13.00% 29.25\\nTotal (CDN) $254.25\\nHST 811629252\\nThank you for your business.'"
      ]
     },
     "execution_count": 9,
     "metadata": {},
     "output_type": "execute_result"
    }
   ],
   "source": [
    "text"
   ]
  },
  {
   "cell_type": "code",
   "execution_count": 10,
   "metadata": {},
   "outputs": [
    {
     "name": "stdout",
     "output_type": "stream",
     "text": [
      "Date: 2023-10-31\n"
     ]
    }
   ],
   "source": [
    "# text = \"Date: 2020-11-30\"\n",
    "\n",
    "# Extract date using regex\n",
    "date = re.search(r'Date:\\s*(\\d{4}-\\d{2}-\\d{2})', text).group(1)\n",
    "print(f\"Date: {date}\")\n"
   ]
  },
  {
   "cell_type": "code",
   "execution_count": 11,
   "metadata": {},
   "outputs": [
    {
     "name": "stdout",
     "output_type": "stream",
     "text": [
      "Invoice No: 8713\n"
     ]
    }
   ],
   "source": [
    "# Extract invoice\n",
    "invoice_number = re.search(r'Invoice No: (\\d+)', text).group(1)\n",
    "print(f\"Invoice No: {invoice_number}\")\n"
   ]
  },
  {
   "cell_type": "code",
   "execution_count": 12,
   "metadata": {},
   "outputs": [
    {
     "name": "stdout",
     "output_type": "stream",
     "text": [
      "Client: Deco Homes\n",
      "\n"
     ]
    }
   ],
   "source": [
    "# Extract Client\n",
    "Client = re.search(r'(?:Client|Bill To|Customer):\\s*([\\w\\s&-]+?(?:\\s*(?:Inc\\.|Ltd\\.|LLC|Limited))?)', text)\n",
    "pattern = re.search(r'Client:\\s*([A-Za-z\\s.,-]+)', text).group(1)\n",
    "\n",
    "# Client\n",
    "print(f\"Client: {pattern}\")\n"
   ]
  },
  {
   "cell_type": "code",
   "execution_count": 13,
   "metadata": {},
   "outputs": [
    {
     "name": "stdout",
     "output_type": "stream",
     "text": [
      "'Date: 2023-10-31\\nInvoice\\nClient: Deco Homes\\n570 Applewood Crescent,\\nInvoice No: 8713\\nUnit 1\\nVaughan, ON Agreement No: A0546\\nL4K 4B4\\nTerms: Net 30\\nRe: #A0546 - Honeystone Qty Rate Price\\nTo bill for time spent in October 2023 after launch on document 1.5 150.00 225.00\\nrevisions as per Schedule \"A1\" - Fee Schedule of the contract (1.5\\nhours)\\n- Schedule S - Site Plan\\nHST On Sales 13.00% 29.25\\nTotal (CDN) $254.25\\nHST 811629252\\nThank you for your business.'\n",
      "Address not found.\n"
     ]
    }
   ],
   "source": [
    "import re\n",
    "\n",
    "print(repr(text))\n",
    "\n",
    "# Regex to match the client address\n",
    "street_regex = r'(\\d+\\s+[A-Za-z]+\\s+[A-Za-z]+)'\n",
    "street_regex = r'(\\d+\\s+[A-Za-z]+\\s+[A-Za-z]+)'\n",
    "\n",
    "import re\n",
    "\n",
    "# Sample text\n",
    "text = \"\"\"\n",
    "Date: 2020-11-30\n",
    "Invoice\n",
    "Client: Branthaven Marz Inc.\n",
    "720 Oval Court\n",
    "Invoice No: 4560\n",
    "Burlington, On\n",
    "L7L 6A9 Agreement No: A0224\n",
    "Terms: Net 30\n",
    "Re: #A0224 - Casa De Torri Qty Rate Price\n",
    "To bill for Hosting and Upgrades as per section 3 of the contract: 1 400.00 400.00\n",
    "November, 2020\n",
    "HST On Sales 13.00% 52.00\n",
    "Total (CDN) $452.00\n",
    "HST 811629252\n",
    "It's been a pleasure working with you!\n",
    "\"\"\"\n",
    "\n",
    "# Split the text into lines\n",
    "lines = text.splitlines()\n",
    "\n",
    "# Initialize variables to store address components\n",
    "street_address = None\n",
    "city = None\n",
    "province = None\n",
    "postal_code = None\n",
    "\n",
    "# Iterate through the lines to find the address\n",
    "for i, line in enumerate(lines):\n",
    "    if \"Client: Branthaven Marz Inc.\" in line:\n",
    "        # The next line should be the street address\n",
    "        if i + 1 < len(lines):\n",
    "            street_address = lines[i + 1].strip()\n",
    "        # The line after that should be the city and province\n",
    "        if i + 2 < len(lines):\n",
    "            city_province = lines[i + 2].strip()\n",
    "            # Split city and province\n",
    "            if \", \" in city_province:\n",
    "                city, province = city_province.split(\", \")\n",
    "        # The line after that should be the postal code\n",
    "        if i + 3 < len(lines):\n",
    "            postal_code = lines[i + 3].strip().split(\" \")[0]  # Extract only the postal code\n",
    "\n",
    "# Print the full address\n",
    "if street_address and city and province and postal_code:\n",
    "    print(\"Full Address:\")\n",
    "    print(f\"{street_address}\\n{city}, {province}\\n{postal_code}\")\n",
    "else:\n",
    "    print(\"Address not found.\")"
   ]
  },
  {
   "cell_type": "code",
   "execution_count": 14,
   "metadata": {},
   "outputs": [
    {
     "name": "stdout",
     "output_type": "stream",
     "text": [
      "Agreement No: A0224\n"
     ]
    }
   ],
   "source": [
    "agreement_number = re.search(r'Agreement No:\\s*([A-Z0-9]+)', text).group(1)\n",
    "print(f\"Agreement No: {agreement_number}\")\n"
   ]
  },
  {
   "cell_type": "code",
   "execution_count": 15,
   "metadata": {},
   "outputs": [
    {
     "name": "stdout",
     "output_type": "stream",
     "text": [
      "Terms: Net 30\n"
     ]
    }
   ],
   "source": [
    "terms = re.search(r'Terms:\\s*([\\w\\s]+?)(?:\\n|$)', text).group(1).strip()\n",
    "print(f\"Terms: {terms}\")\n",
    "\n"
   ]
  },
  {
   "cell_type": "code",
   "execution_count": 16,
   "metadata": {},
   "outputs": [
    {
     "name": "stdout",
     "output_type": "stream",
     "text": [
      "Total: $452.00\n"
     ]
    }
   ],
   "source": [
    "total = re.search(r'Total \\(CDN\\)\\s*\\$([\\d,.]+)', text).group(1)\n",
    "print(f\"Total: ${total}\")\n",
    "\n"
   ]
  },
  {
   "cell_type": "code",
   "execution_count": 20,
   "metadata": {},
   "outputs": [
    {
     "name": "stdout",
     "output_type": "stream",
     "text": [
      "Agreement No: A0546\n",
      "Client: Honeystone\n",
      "\n",
      "Tax Rate: 13.00%\n",
      "Tax Amount: $29.25\n"
     ]
    }
   ],
   "source": [
    "import re\n",
    "\n",
    "# Sample text\n",
    "text = \"\"\"\n",
    "Re: #A0224 - Casa De Torri Qty Rate Price\n",
    "To bill for Hosting and Upgrades as per section 3 of the contract: 1 400.00 400.00\n",
    "November, 2020\n",
    "HST On Sales 13.00% 52.00\n",
    "\"\"\"\n",
    "\n",
    "# Extract header with Agreement No and Client\n",
    "header_match = re.search(r'Re: #([A-Z0-9]+) - ([A-Za-z\\s]+)\\s*(Qty\\s+Rate\\s+Price)', text)\n",
    "if header_match:\n",
    "    agreement_number = header_match.group(1).strip()\n",
    "    client_name = header_match.group(2).strip()\n",
    "    column_labels = header_match.group(3).strip()\n",
    "    print(f\"Agreement No: {agreement_number}\")\n",
    "    print(f\"Client: {client_name}\")\n",
    "    # print(f\"Column Labels: {column_labels}\")\n",
    "    print()\n",
    "\n",
    "    # Remove the header from the text\n",
    "    # text_without_header = text.replace(header_match.group(0), \"\").strip()\n",
    "    # print(\"\\nText without header:\")\n",
    "    # print(text_without_header)\n",
    "else:\n",
    "    print(\"Header not found.\")\n",
    "\n",
    "# Extract table rows\n",
    "table_row_regex = r'(.+):\\s+(\\d+)\\s+([\\d,.]+)\\s+([\\d,.]+)'\n",
    "matches = re.findall(table_row_regex, text)\n",
    "\n",
    "# Print table data\n",
    "for match in matches:\n",
    "    description, qty, rate, price = match\n",
    "    print(f\"Description: {description.strip()}\")\n",
    "    print(f\"Qty: {qty}\")\n",
    "    print(f\"Rate: {rate}\")\n",
    "    print(f\"Price: {price}\")\n",
    "\n",
    "# Extract tax information\n",
    "tax_match = re.search(r'HST On Sales ([\\d.]+%) ([\\d,.]+)', text)\n",
    "if tax_match:\n",
    "    tax_rate = tax_match.group(1)\n",
    "    tax_amount = tax_match.group(2)\n",
    "    print(f\"Tax Rate: {tax_rate}\")\n",
    "    print(f\"Tax Amount: ${tax_amount}\")"
   ]
  }
 ],
 "metadata": {
  "kernelspec": {
   "display_name": "Python 3",
   "language": "python",
   "name": "python3"
  },
  "language_info": {
   "codemirror_mode": {
    "name": "ipython",
    "version": 3
   },
   "file_extension": ".py",
   "mimetype": "text/x-python",
   "name": "python",
   "nbconvert_exporter": "python",
   "pygments_lexer": "ipython3",
   "version": "3.11.9"
  }
 },
 "nbformat": 4,
 "nbformat_minor": 2
}
