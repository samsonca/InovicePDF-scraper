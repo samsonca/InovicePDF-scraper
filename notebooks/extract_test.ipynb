{
 "cells": [
  {
   "cell_type": "code",
   "execution_count": null,
   "metadata": {},
   "outputs": [
    {
     "name": "stdout",
     "output_type": "stream",
     "text": [
      "{'invoice_number': '4560', 'date': '2020-11-30', 'client_name': 'Branthaven Marz Inc.', 'address': '720 Oval Court', 'items': [(\"To bill for Hosting and Upgrades as per section 3 of the contract: November, 2020 HST On Sales 13.00% 52.00 Total (CDN) $452.00 HST 811629252 It's been a pleasure working with you!\", '1', '400.00', '400.00'), ('HST On Sales', '-', '13.00%', '52.00')]}\n"
     ]
    }
   ],
   "source": [
    "import sys\n",
    "import os\n",
    "\n",
    "# Get the absolute path of the project directory\n",
    "project_root = os.path.abspath(os.path.join(os.getcwd(), \"..\")) \n",
    "\n",
    "# Add `src` folder to Python's module search path\n",
    "sys.path.append(os.path.join(project_root, \"src\"))\n",
    "\n",
    "# Now, import your module\n",
    "from extraction.pdf_parser import extract_invoice_data\n",
    "\n",
    "\n",
    "pdf_path = r\"C:\\Users\\SamsonC\\Documents\\Accounting\\Accounting_AR\\invoice_pdf\\salefish-invoice.pdf\"\n",
    "invoice_data = extract_invoice_data(pdf_path)\n",
    "\n",
    "print(invoice_data)  # Check extracted data\n"
   ]
  }
 ],
 "metadata": {
  "kernelspec": {
   "display_name": "Python 3",
   "language": "python",
   "name": "python3"
  },
  "language_info": {
   "codemirror_mode": {
    "name": "ipython",
    "version": 3
   },
   "file_extension": ".py",
   "mimetype": "text/x-python",
   "name": "python",
   "nbconvert_exporter": "python",
   "pygments_lexer": "ipython3",
   "version": "3.11.9"
  }
 },
 "nbformat": 4,
 "nbformat_minor": 2
}
