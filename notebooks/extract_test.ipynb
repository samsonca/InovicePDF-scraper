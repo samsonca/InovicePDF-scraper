{
 "cells": [
  {
   "cell_type": "code",
   "execution_count": 1,
   "metadata": {},
   "outputs": [
    {
     "name": "stdout",
     "output_type": "stream",
     "text": [
      "{'invoice_number': '8713', 'date': '2023-10-31', 'client_name': 'Deco Homes', 'address': '570 Applewood Crescent,', 'unit': 'Unit 1', 'city': 'Vaughan', 'province': 'ON', 'postal_code': 'L4K 4B4', 'agreement_number': 'A0546', 'client_project': 'Honeystone', 'items': [('To bill for time spent in October 2023 after launch on document revisions as per Schedule \"A1\" - Fee Schedule of the contract (1.5 hours) - Schedule S - Site Plan', '1.5', '150.00', '225.00'), ('HST On Sales', '-', '13.00%', '29.25')]}\n"
     ]
    }
   ],
   "source": [
    "import sys\n",
    "import os\n",
    "\n",
    "# Get the absolute path of the project directory\n",
    "project_root = os.path.abspath(os.path.join(os.getcwd(), \"..\")) \n",
    "\n",
    "# Add `src` folder to Python's module search path\n",
    "sys.path.append(os.path.join(project_root, \"src\"))\n",
    "\n",
    "# Now, import your module\n",
    "from extraction.pdf_parser import extract_invoice_data\n",
    "\n",
    "\n",
    "pdf_path = r\"C:\\Users\\SamsonC\\Documents\\Accounting\\Accounting_AR\\invoice_pdf\\8713.pdf\"\n",
    "invoice_data = extract_invoice_data(pdf_path)\n",
    "\n",
    "print(invoice_data)  # Check extracted data\n"
   ]
  }
 ],
 "metadata": {
  "kernelspec": {
   "display_name": "Python 3",
   "language": "python",
   "name": "python3"
  },
  "language_info": {
   "codemirror_mode": {
    "name": "ipython",
    "version": 3
   },
   "file_extension": ".py",
   "mimetype": "text/x-python",
   "name": "python",
   "nbconvert_exporter": "python",
   "pygments_lexer": "ipython3",
   "version": "3.11.9"
  }
 },
 "nbformat": 4,
 "nbformat_minor": 2
}
